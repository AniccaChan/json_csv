{
 "cells": [
  {
   "cell_type": "code",
   "execution_count": 14,
   "metadata": {},
   "outputs": [],
   "source": [
    "import json\n",
    "import csv"
   ]
  },
  {
   "cell_type": "code",
   "execution_count": 17,
   "metadata": {},
   "outputs": [],
   "source": [
    "\n",
    "with open(\"90routes_Europe.json\",\"r\") as f:\n",
    "    with open(\"output.csv\", \"w\", newline='') as out:\n",
    "        writer = csv.writer(out)\n",
    "        writer.writerow([\"id\",\"Starting Location\",\"Ending Location\",\"Online Only Route Result\",\"Logs\"])\n",
    "        data = json.load(f)\n",
    "        #data\n",
    "        routes = data[\"data\"][\"routes\"]\n",
    "        for route in routes:\n",
    "            assert route.get(\"id\") and route.get(\"origin\") and route.get(\"destination\"), \"id, origin or destination not found in this json\"\n",
    "            id = route.get(\"id\")\n",
    "            origin = [route.get(\"origin\")[0].get(\"latitude\"),route.get(\"origin\")[0].get(\"longitude\")]\n",
    "            destination = [route.get(\"destination\")[0].get(\"latitude\"),route.get(\"destination\")[0].get(\"longitude\")]\n",
    "            writer.writerow([id,origin,destination])"
   ]
  }
 ],
 "metadata": {
  "kernelspec": {
   "display_name": "Python 3",
   "language": "python",
   "name": "python3"
  },
  "language_info": {
   "codemirror_mode": {
    "name": "ipython",
    "version": 3
   },
   "file_extension": ".py",
   "mimetype": "text/x-python",
   "name": "python",
   "nbconvert_exporter": "python",
   "pygments_lexer": "ipython3",
   "version": "3.10.2"
  }
 },
 "nbformat": 4,
 "nbformat_minor": 2
}
