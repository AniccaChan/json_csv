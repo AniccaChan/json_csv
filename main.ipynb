{
 "cells": [
  {
   "cell_type": "code",
   "execution_count": 2,
   "metadata": {},
   "outputs": [],
   "source": [
    "import json\n",
    "import csv\n",
    "INPUT_PATH = \"90routes_Europe.json\"\n",
    "OUTPUT_PATH = \"output.csv\""
   ]
  },
  {
   "cell_type": "code",
   "execution_count": 3,
   "metadata": {},
   "outputs": [
    {
     "ename": "TypeError",
     "evalue": "can only concatenate str (not \"float\") to str",
     "output_type": "error",
     "traceback": [
      "\u001b[1;31m---------------------------------------------------------------------------\u001b[0m",
      "\u001b[1;31mTypeError\u001b[0m                                 Traceback (most recent call last)",
      "Cell \u001b[1;32mIn [3], line 14\u001b[0m\n\u001b[0;32m     12\u001b[0m origin \u001b[38;5;241m=\u001b[39m \u001b[38;5;124m\"\u001b[39m\u001b[38;5;124m\"\u001b[39m\n\u001b[0;32m     13\u001b[0m \u001b[38;5;28;01mfor\u001b[39;00m i \u001b[38;5;129;01min\u001b[39;00m ori:\n\u001b[1;32m---> 14\u001b[0m     origin \u001b[38;5;241m+\u001b[39m\u001b[38;5;241m=\u001b[39m i\n\u001b[0;32m     15\u001b[0m     origin \u001b[38;5;241m+\u001b[39m\u001b[38;5;241m=\u001b[39m \u001b[38;5;124m\"\u001b[39m\u001b[38;5;124m \u001b[39m\u001b[38;5;124m\"\u001b[39m\n\u001b[0;32m     16\u001b[0m dest \u001b[38;5;241m=\u001b[39m [route\u001b[38;5;241m.\u001b[39mget(\u001b[38;5;124m\"\u001b[39m\u001b[38;5;124mdestination\u001b[39m\u001b[38;5;124m\"\u001b[39m)[\u001b[38;5;241m0\u001b[39m]\u001b[38;5;241m.\u001b[39mget(\u001b[38;5;124m\"\u001b[39m\u001b[38;5;124mlatitude\u001b[39m\u001b[38;5;124m\"\u001b[39m),route\u001b[38;5;241m.\u001b[39mget(\u001b[38;5;124m\"\u001b[39m\u001b[38;5;124mdestination\u001b[39m\u001b[38;5;124m\"\u001b[39m)[\u001b[38;5;241m0\u001b[39m]\u001b[38;5;241m.\u001b[39mget(\u001b[38;5;124m\"\u001b[39m\u001b[38;5;124mlongitude\u001b[39m\u001b[38;5;124m\"\u001b[39m)]\n",
      "\u001b[1;31mTypeError\u001b[0m: can only concatenate str (not \"float\") to str"
     ]
    }
   ],
   "source": [
    "\n",
    "with open(INPUT_PATH,\"r\") as f:\n",
    "    with open(OUTPUT_PATH, \"w\", newline='') as out:\n",
    "        writer = csv.writer(out)\n",
    "        writer.writerow([\"id\",\"Starting Location\",\"Ending Location\",\"Online Only Route Result\",\"Logs\"])\n",
    "        data = json.load(f)\n",
    "        #data\n",
    "        routes = data[\"data\"][\"routes\"]\n",
    "        for route in routes:\n",
    "            assert route.get(\"id\") and route.get(\"origin\") and route.get(\"destination\"), \"id, origin or destination not found in this json\"\n",
    "            id = route.get(\"id\")\n",
    "            ori = [route.get(\"origin\")[0].get(\"latitude\"),route.get(\"origin\")[0].get(\"longitude\")]\n",
    "            origin = \"\"\n",
    "            for i in ori:\n",
    "                origin += str(i)\n",
    "                origin += \" \"\n",
    "            dest = [route.get(\"destination\")[0].get(\"latitude\"),route.get(\"destination\")[0].get(\"longitude\")]\n",
    "            destination = \"\"\n",
    "            for i in dest:\n",
    "                destination += str(i)\n",
    "                destination += \" \"\n",
    "            writer.writerow([id,origin,destination])"
   ]
  }
 ],
 "metadata": {
  "kernelspec": {
   "display_name": "Python 3",
   "language": "python",
   "name": "python3"
  },
  "language_info": {
   "codemirror_mode": {
    "name": "ipython",
    "version": 3
   },
   "file_extension": ".py",
   "mimetype": "text/x-python",
   "name": "python",
   "nbconvert_exporter": "python",
   "pygments_lexer": "ipython3",
   "version": "3.10.2"
  }
 },
 "nbformat": 4,
 "nbformat_minor": 2
}
